{
 "cells": [
  {
   "cell_type": "code",
   "execution_count": null,
   "metadata": {},
   "outputs": [],
   "source": [
    "import torch\n",
    "import torch.nn as nn\n",
    "import pandas as pd\n",
    "from transformers import BertConfig, BertModel\n",
    "from sklearn.model_selection import train_test_split\n",
    "class TextCNN(nn.Module):\n",
    "    def __init__(self, embedding_dim, cnn_output_dim, kernel_size, padding):\n",
    "        super(TextCNN, self).__init__()\n",
    "        self.conv1 = nn.Conv1d(in_channels=embedding_dim, out_channels=cnn_output_dim, kernel_size=kernel_size[0], padding=padding)\n",
    "        self.conv2 = nn.Conv1d(in_channels=embedding_dim, out_channels=cnn_output_dim, kernel_size=kernel_size[1], padding=padding)\n",
    "        self.conv3 = nn.Conv1d(in_channels=embedding_dim, out_channels=cnn_output_dim, kernel_size=kernel_size[2], padding=padding)\n",
    "        self.global_pool = nn.AdaptiveMaxPool1d(output_size=1)\n",
    "        self.dropout = nn.Dropout(0.2)\n",
    "\n",
    "    def forward(self, inputs):\n",
    "        cnn1 = nn.functional.relu(self.conv1(inputs))\n",
    "        cnn1 = self.global_pool(cnn1).squeeze(-1)\n",
    "        cnn2 = nn.functional.relu(self.conv2(inputs))\n",
    "        cnn2 = self.global_pool(cnn2).squeeze(-1)\n",
    "        cnn3 = nn.functional.relu(self.conv3(inputs))\n",
    "        cnn3 = self.global_pool(cnn3).squeeze(-1)\n",
    "        output = torch.cat((cnn1, cnn2, cnn3), dim=-1)\n",
    "        output = self.dropout(output)\n",
    "        return output\n",
    "\n",
    "class BertTextCNN(nn.Module):\n",
    "    def __init__(self, config_path, checkpoint_path, class_nums, cnn_output_dim=256, kernel_size=[3, 4, 5], padding=0):\n",
    "        super(BertTextCNN, self).__init__()\n",
    "        bert_config = BertConfig.from_pretrained(config_path)\n",
    "        self.bert = BertModel.from_pretrained(checkpoint_path, config=bert_config)\n",
    "        self.textcnn = TextCNN(embedding_dim=bert_config.hidden_size, cnn_output_dim=cnn_output_dim, kernel_size=kernel_size, padding=padding)\n",
    "        self.fc1 = nn.Linear(bert_config.hidden_size + cnn_output_dim * 3, 512)\n",
    "        self.fc2 = nn.Linear(512, class_nums)\n",
    "        self.softmax = nn.Softmax(dim=-1)\n",
    "\n",
    "    def forward(self, inputs):\n",
    "        bert_output = self.bert(inputs['input_ids'], attention_mask=inputs['attention_mask'], token_type_ids=inputs['token_type_ids'])\n",
    "        cls_features = bert_output[0][:, 0]\n",
    "        all_token_embedding = bert_output[0][:, 1:-1]\n",
    "        cnn_features = self.textcnn(all_token_embedding)\n",
    "        concat_features = torch.cat((cls_features, cnn_features), dim=-1)\n",
    "        output = self.fc1(concat_features)\n",
    "        output = nn.functional.relu(output)\n",
    "        output = self.fc2(output)\n",
    "        output = self.softmax(output)\n",
    "        return output\n",
    "bert = BertModel.from_pretrained('./rbt3')\n",
    "bert.config\n",
    "df = pd.read_csv(\"./data/train_data.csv\")\n",
    "X = df['text'].tolist()\n",
    "y = df['label'].tolist()\n",
    "X_train,X_test,y_train,y_test = train_test_split(X,y,test_size=0.3,random_state=42)\n",
    "df1 = pd.DataFrame({'text':X_test,'label':y_test})\n",
    "df1.to_csv('./data/dev.csv',index=False)"
   ]
  },
  {
   "cell_type": "code",
   "execution_count": 18,
   "metadata": {},
   "outputs": [
    {
     "name": "stdout",
     "output_type": "stream",
     "text": [
      "tensor([ 101, 4583, 4555, 4638, 3780, 4545, 3175, 3791,  102,    0,    0,    0,\n",
      "           0,    0,    0,    0,    0,    0,    0,    0,    0,    0,    0,    0,\n",
      "           0,    0,    0,    0,    0,    0,    0,    0,    0,    0,    0,    0,\n",
      "           0,    0,    0,    0,    0,    0,    0,    0,    0,    0,    0,    0,\n",
      "           0,    0,    0,    0,    0,    0,    0,    0,    0,    0,    0,    0,\n",
      "           0,    0,    0,    0])\n",
      "tensor([1, 1, 1, 1, 1, 1, 1, 1, 1, 0, 0, 0, 0, 0, 0, 0, 0, 0, 0, 0, 0, 0, 0, 0,\n",
      "        0, 0, 0, 0, 0, 0, 0, 0, 0, 0, 0, 0, 0, 0, 0, 0, 0, 0, 0, 0, 0, 0, 0, 0,\n",
      "        0, 0, 0, 0, 0, 0, 0, 0, 0, 0, 0, 0, 0, 0, 0, 0])\n"
     ]
    }
   ],
   "source": [
    "from transformers import BertTokenizer,BertModel\n",
    "from MyDataSet import MyDataset\n",
    "from bert_model import BertTextCNN\n",
    "from torch.utils.data import DataLoader\n",
    "import pandas as pd\n",
    "model_name = './rbt3'\n",
    "num_filter = 256\n",
    "num_classes = 16\n",
    "filter_sizes = [3,4,5]\n",
    "tokenizer = BertTokenizer.from_pretrained('./rbt3')\n",
    "df = pd.read_csv('./data/train_data.csv')\n",
    "train_dataset = MyDataset(df,tokenizer,64)\n",
    "# bert_model = BertModel.from_pretrained('./rbt3/')\n",
    "# help(bert_model)\n",
    "input_ids, attention_mask, labels = train_dataset[8]\n",
    "print(input_ids)\n",
    "print(attention_mask)\n",
    "# train_dataloader = DataLoader(train_dataset,batch_size=1,shuffle=True)\n",
    "# model = BertTextCNN(model_name,num_filter,filter_sizes,num_classes)\n",
    "# for  in train_dataloader:\n",
    "#     print(input_ids)\n",
    "#     model(input_ids,attention_mask)\n",
    "#     break"
   ]
  },
  {
   "cell_type": "code",
   "execution_count": 14,
   "metadata": {},
   "outputs": [],
   "source": [
    "import pandas as pd\n",
    "df = pd.read_csv('./data/train_data.csv')\n",
    "classes = df['label_class']\n",
    "labels = df['label']\n",
    "a = set()\n",
    "for label_class,label in zip(classes,labels):\n",
    "    info = (label_class,label)\n",
    "    if info not in a:\n",
    "        a.add(info)\n",
    "with open('./data/label.txt','w',encoding='utf-8') as f:\n",
    "    for t in a:\n",
    "        f.write(t[0]+\" \"+ str(t[1]) + '\\n')"
   ]
  },
  {
   "cell_type": "code",
   "execution_count": 2,
   "metadata": {},
   "outputs": [
    {
     "name": "stderr",
     "output_type": "stream",
     "text": [
      "Some weights of the model checkpoint at ./rbt3 were not used when initializing BertModel: ['cls.predictions.decoder.weight', 'cls.seq_relationship.weight', 'cls.predictions.transform.LayerNorm.bias', 'cls.seq_relationship.bias', 'cls.predictions.bias', 'cls.predictions.transform.LayerNorm.weight', 'cls.predictions.transform.dense.weight', 'cls.predictions.transform.dense.bias']\n",
      "- This IS expected if you are initializing BertModel from the checkpoint of a model trained on another task or with another architecture (e.g. initializing a BertForSequenceClassification model from a BertForPreTraining model).\n",
      "- This IS NOT expected if you are initializing BertModel from the checkpoint of a model that you expect to be exactly identical (initializing a BertForSequenceClassification model from a BertForSequenceClassification model).\n"
     ]
    },
    {
     "name": "stdout",
     "output_type": "stream",
     "text": [
      "TextCNN(\n",
      "  (convs): ModuleList(\n",
      "    (0): Conv2d(1, 256, kernel_size=(3, 768), stride=(1, 1))\n",
      "    (1): Conv2d(1, 256, kernel_size=(4, 768), stride=(1, 1))\n",
      "    (2): Conv2d(1, 256, kernel_size=(5, 768), stride=(1, 1))\n",
      "  )\n",
      "  (fc): Linear(in_features=768, out_features=16, bias=True)\n",
      ")\n"
     ]
    }
   ],
   "source": [
    "from bert_model import BertTextCNN\n",
    "bert_model_name = './rbt3'\n",
    "num_filters = 256\n",
    "filter_sizes = [3,4,5]\n",
    "num_classes = 16\n",
    "model = BertTextCNN(bert_model_name,num_filters,filter_sizes,num_classes)\n",
    "print(model.text_cnn)"
   ]
  }
 ],
 "metadata": {
  "kernelspec": {
   "display_name": "torch",
   "language": "python",
   "name": "python3"
  },
  "language_info": {
   "codemirror_mode": {
    "name": "ipython",
    "version": 3
   },
   "file_extension": ".py",
   "mimetype": "text/x-python",
   "name": "python",
   "nbconvert_exporter": "python",
   "pygments_lexer": "ipython3",
   "version": "3.8.16"
  },
  "orig_nbformat": 4
 },
 "nbformat": 4,
 "nbformat_minor": 2
}
